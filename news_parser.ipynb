{
  "nbformat": 4,
  "nbformat_minor": 0,
  "metadata": {
    "colab": {
      "provenance": []
    },
    "kernelspec": {
      "name": "python3",
      "display_name": "Python 3"
    },
    "language_info": {
      "name": "python"
    }
  },
  "cells": [
    {
      "cell_type": "markdown",
      "source": [
        "# Парсер статей с сайта Poisknews"
      ],
      "metadata": {
        "id": "zh2hjD7ivMW-"
      }
    },
    {
      "cell_type": "markdown",
      "source": [
        "Подключаем библиотеки"
      ],
      "metadata": {
        "id": "8Na7xatGu6Zs"
      }
    },
    {
      "cell_type": "code",
      "execution_count": null,
      "metadata": {
        "id": "5fN1JQtl7w5b"
      },
      "outputs": [],
      "source": [
        "import requests # Загрузка новостей с сайта.\n",
        "from bs4 import BeautifulSoup # Превращалка html в текст.\n",
        "import re # Регулярные выражения."
      ]
    },
    {
      "cell_type": "markdown",
      "source": [
        "Получаем информацию о загруженной веб-странице\n"
      ],
      "metadata": {
        "id": "-R0bPU9rvpbJ"
      }
    },
    {
      "cell_type": "code",
      "source": [
        "%%time\n",
        "# %%time - Магия Jupyter - замеряет время выполнения ячейки. Должно быть первой строчкой в ячейке.\n",
        "resp = requests.get(\"https://poisknews.ru/category/skript/\")\n",
        "print(\"cookies:\", resp.cookies)\n",
        "print(\"time to download:\", resp.elapsed)\n",
        "print(\"page encoding\", resp.encoding)\n",
        "print(\"Server response: \", resp.status_code)\n",
        "print(\"Is everything ok? \", resp.ok)\n",
        "print(\"Page's URL: \", resp.url)"
      ],
      "metadata": {
        "colab": {
          "base_uri": "https://localhost:8080/"
        },
        "id": "Ivg0Ppx8BGSy",
        "outputId": "5ac45c7a-ece1-4004-8fce-a7d04ddaadff"
      },
      "execution_count": null,
      "outputs": [
        {
          "output_type": "stream",
          "name": "stdout",
          "text": [
            "cookies: <RequestsCookieJar[]>\n",
            "time to download: 0:00:01.054683\n",
            "page encoding UTF-8\n",
            "Server response:  200\n",
            "Is everything ok?  True\n",
            "Page's URL:  https://poisknews.ru/category/skript/\n",
            "CPU times: user 35.5 ms, sys: 7.83 ms, total: 43.4 ms\n",
            "Wall time: 1.27 s\n"
          ]
        }
      ]
    },
    {
      "cell_type": "code",
      "source": [
        "# Получили объект BeautifulSoup и скормили ему текст страницы.\n",
        "bs=BeautifulSoup(resp.text, \"html5lib\") \n",
        "# Вот таким образом можно попросить отдать первый тег, отмеченный как h1. Вместо h1 можно написать любой другой тег.\n",
        "title=bs.h1.text\n",
        "# Получаем все параграфы (тег p), берем их текст без тегов и склеиваем в один текст.\n",
        "text=\" \".join([p.text for p in bs.find_all(\"p\")])\n",
        "print(title, \"\\n-----\\n\", text)"
      ],
      "metadata": {
        "colab": {
          "base_uri": "https://localhost:8080/"
        },
        "id": "vrOCkutzDF__",
        "outputId": "f02ccce9-156e-4912-a3a2-24cb1596421d"
      },
      "execution_count": null,
      "outputs": [
        {
          "output_type": "stream",
          "name": "stdout",
          "text": [
            "Статьи \n",
            "-----\n",
            " Анализ пряди волос из могильника на испанском острове Менорка показал, что люди древней цивилизации использовали галлюциногены растительного происхождения. Это открытие – первое прямое указание на использование... Новая противораковая вакцина, подогнанная под генетические изменения в клетках опухоли отдельного пациента, показала многообещающие результаты в небольшом клиническом испытании, которое было проведено международной... Уезжают, приезжают, перемещаются… Добровольно, вынужденно… Понятия «эмиграция», «иммиграция», «миграция» прочно вошли в жизнь народов, стран и континентов. Наглядно познакомиться с современными трендами этих процессов... ПОИСК © 2023   \n",
            "\t\tOnly fill in if you are not human\n",
            "\t\t\n",
            "\t  \n",
            " \n",
            "\t\tOnly fill in if you are not human\n",
            "\t\t\n",
            "\t  \n",
            "\t\tOnly fill in if you are not human\n",
            "\t\t\n",
            "\t\n"
          ]
        }
      ]
    },
    {
      "cell_type": "code",
      "source": [
        "# Теперь выделим только то, что взято в тег h2.\n",
        "h2s=BeautifulSoup(requests.get(\"https://poisknews.ru/category/skript/\").text, \"html5lib\").find_all(\"h2\")\n",
        "# Формируем список ссылок. Для этого берем первую (кстати, единственную) ссылку из каждого выделенного\n",
        "# фрагмента, у нее берем значение параметра href. \n",
        "links=[l.find_all(\"a\")[0][\"href\"] for l in h2s]\n",
        "print(links)"
      ],
      "metadata": {
        "colab": {
          "base_uri": "https://localhost:8080/"
        },
        "id": "D5fq6hIDHXyC",
        "outputId": "c5ab9e9f-5bf2-4f35-86dd-5b3fbfb4b96b"
      },
      "execution_count": null,
      "outputs": [
        {
          "output_type": "stream",
          "name": "stdout",
          "text": [
            "['https://poisknews.ru/themes/arheologiya/s-podachi-shamanov-ritualy-s-upotrebleniem-gallyuczinogennyh-preparatov-provodilis-eshhe-v-bronzovom-veke/', 'https://poisknews.ru/themes/arheologiya/kuda-i-otkuda-o-migraczii-drevnih-lyudej-rasskazhut-ih-stoyanki/', 'https://poisknews.ru/themes/medicine/okonchatelno-i-bespovorotno-predotvratit-reczidiv-melanomy-pomozhet-personalizirovannaya-mrnkovaya-vakczina/', 'https://poisknews.ru/themes/space-themes/zhzhet-svetilo-nablyudeniya-kosmicheskogo-apparata-solar-orbiter-mogut-obyasnit-zapredelnuyu-temperaturu-solnechnoj-korony/', 'https://poisknews.ru/socziologiya/menyaetsya-obmen-unikalnyj-atlas-otrazil-proczessy-pereseleniya-lyudej-iz-strany-v-stranu-za-30-let/', 'https://poisknews.ru/themes/medicine/k-novoj-farmaczii-lekarstvo-ot-deficzita-lekarstv-iskali-na-zasedanii-kluba-mezhnauchnyh-kontaktov/', 'https://poisknews.ru/international/effekty-zamorozki-k-chemu-vedet-priostanovka-ustoyavshihsya-nauchnyh-svyazej/', 'https://poisknews.ru/skript/memory/vperyodsmotrevshij-akademik-gurij-marchuk-umel-videt-perspektivy/', 'https://poisknews.ru/themes/matematika/samolety-stanovyatsya-tishe-matematicheskie-modeli-czagi-protiv-aviaczionnogo-shuma/', 'https://poisknews.ru/yurisprudencziya/po-sovetam-starejshiny-uchenye-pravovedy-razvivayut-idei-akademika-vladimira-kudryavczeva/', 'https://poisknews.ru/science-politic/srastyotsya-akademiya-nauk-i-kurchatovskij-institut-idut-na-sblizhenie/', 'https://poisknews.ru/kultura/vosstanet-iz-ruin-predstavlen-proekt-restavraczii-triumfalnoj-arki-v-palmire/', 'https://poisknews.ru/themes/physics/snova-udivil-u-grafena-obnaruzhili-ogromnoe-magnitosoprotivlenie/', 'https://poisknews.ru/themes/ekologiya/klimat/slabeet-czirkulyacziya-zamedlenie-glubinnyh-potokov-yuzhnogo-okeana-grozit-planetarnoj-katastrofoj/', 'https://poisknews.ru/themes/space-themes/v-dorogu-dalnyuyu-missiyu-k-yupiteru-i-ego-sputnikam-zapustilo-evropejskoe-kosmicheskoe-agentstvo/', 'https://poisknews.ru/themes/medicine/son-eto-chudo-kogda-b-ne-muchila-bessonnicza/', 'https://poisknews.ru/skript/memory/vyhodivshij-za-predely-fenomen-andreya-kolmogorova-prodolzhaet-budorazhit-voobrazhenie/']\n"
          ]
        }
      ]
    },
    {
      "cell_type": "code",
      "source": [
        "#функция возвращающая список ссылок во всех тегах h2\n",
        "def geth2(link):\n",
        "  h2s=BeautifulSoup(requests.get(link).text, \"html5lib\").find_all(\"h2\")\n",
        "  links=[l.find_all(\"a\")[0][\"href\"] for l in h2s]\n",
        "  return links"
      ],
      "metadata": {
        "id": "w9EXqxdTQIYj"
      },
      "execution_count": null,
      "outputs": []
    },
    {
      "cell_type": "code",
      "source": [
        "# Загрузка статьи по URL.\n",
        "def getArticle(url):\n",
        "    # Получает текст страницы.\n",
        "    resp=requests.get(url)\n",
        "    # Загружаем текст в объект типа BeautifulSoup.\n",
        "    bs=BeautifulSoup(resp.text, \"html5lib\") \n",
        "    # Получаем заголовок статьи.\n",
        "    aTitle=bs.h1.text.replace(\"\\xa0\", \" \")\n",
        "\n",
        "    #получаем текст статьи без последнего абзаца (автора)\n",
        "    div = bs.find('div', class_='entry-content-text', itemprop='articleBody')\n",
        "    paragraphs = div.find_all('p')\n",
        "\n",
        "    # удаляем последний абзац\n",
        "    if len(paragraphs) > 1:\n",
        "      paragraphs = paragraphs[:-1]\n",
        "\n",
        "    result_text = \"\"\n",
        "    for paragraph in paragraphs:\n",
        "      # заменяем неразрывные пробелы на обычные пробелы\n",
        "      result_text += paragraph.text.replace('\\xa0', ' ') + \" \"\n",
        "    anArticle=result_text\n",
        "    \n",
        "    #получаем список категорий статьи\n",
        "    categories=[]\n",
        "    cat1=[]\n",
        "    cat = bs.find_all('div', class_='entry-category')\n",
        "    for l in cat:\n",
        "      cat1=l.find_all('a')\n",
        "      for b in cat1:\n",
        "        text=b.text.strip()\n",
        "        categories.append(text)\n",
        "\n",
        "    # Возвращаем кортеж из заголовка, категорий и текста статьи.\n",
        "    return aTitle, categories, anArticle "
      ],
      "metadata": {
        "id": "M-OI1VJuIxIu"
      },
      "execution_count": null,
      "outputs": []
    },
    {
      "cell_type": "code",
      "source": [
        "getArticle(\"https://poisknews.ru/international/effekty-zamorozki-k-chemu-vedet-priostanovka-ustoyavshihsya-nauchnyh-svyazej/\")"
      ],
      "metadata": {
        "colab": {
          "base_uri": "https://localhost:8080/"
        },
        "id": "tPZGw3srJEsZ",
        "outputId": "097e8e78-69a6-4b58-f9f1-b5991100b5b0"
      },
      "execution_count": null,
      "outputs": [
        {
          "output_type": "execute_result",
          "data": {
            "text/plain": [
              "('Эффекты заморозки. К чему ведет приостановка устоявшихся научных связей',\n",
              " ['Международное сотрудничество', 'Новости', 'В России', 'Статьи'],\n",
              " 'На недавней XXIV Ясинской (Апрельской) конференции по проблемам развития экономики и общества, которая ежегодно проходит в НИУ ВШЭ, в числе других тем обсуждались и вопросы международного научного сотрудничества. Один из докладов был сделан признанным экспертом в этой области, давним автором «Поиска» доктором экономических наук, профессором НИУ ВШЭ Ириной ДЕЖИНОЙ. Мы решили обсудить эту тему и на страницах газеты. – Ирина, прошло больше года с тех пор, как исследовательские организации ведущих в научном отношении стран мира приостановили сотрудничество с российскими партнерами. В какой точке мы сегодня находимся? Какие меры по смягчению санкционного влияния оказались действенными? Какие сов\\xadместные проекты удалось сохранить?\\n– Если говорить о внешних факторах, то за прошедшее время ослабления санкционного давления на российскую науку не было, скорее, наоборот. Если рассматривать ситуацию изнутри, с точки зрения того, что предпринималось для смягчения удара от санкций, то тут можно перечислить несколько правительственных мер. Первой стала мера немедленного реагирования на информационную блокаду. Произошел отход от принципа первоочередного учета публикаций в журналах, индексируемых в базах данных Web of Science и Scopus, для оценки результативности научной деятельности, и параллельно с этим началась разработка национальной системы такой оценки. Вторая также относится к мерам немедленного реагирования и состоит в переориентации международного научного сотрудничества на страны, которые не вводили санкции. Это включает в том числе и изменение правил для действующих программ (например, мегагрантов).\\nТретья мера касается создания собственного производства научных приборов, что важно в условиях существенной зависимости от импорта. Для этого был инициирован новый Федеральный проект «Развитие отечественного приборостроения гражданского назначения». Однако пока на него в федеральном бюджете выделены скромные средства (4 миллиарда рублей в год), то есть это масштаб пилотного проекта. Четвертая мера подразумевает серьезный пересмотр целевой ориентации научных исследований. Планируется наращивать поддержку прикладных исследований и разработок, важных для регионального развития и формирования технологического суверенитета. Что касается продолжения включенности в международное сотрудничество со странами, которые ввели санкции, то оно сохраняется на индивидуальном уровне, в том числе в областях, имеющих региональную привязку (например, в науках о Земле, некоторых областях биологии, лингвистике и т. п.). Кроме того, Россия осталась в нескольких проектах класса мегасайенс. Работа продолжается на термоядерном комплексе ИТЭР во Франции, а также в Европейском центре синхротронных исследований (European Synchrotron Radiation Facility, ESRF), ускорительном комплексе в Гренобле. – Отразилась ли «заморозка» отношений на российской науке? В чем это проявляется сейчас и проявится в будущем?\\n– Свертывание международной кооперации со странами, которые были основными партнерами российских ученых и институтов (а именно эти государства ввели санкции), привело к «утечке умов», особенно тех, кто стремятся быть включенными в мировую науку. При этом в новой волне уезжающих были как сильные ученые, получившие контракты и гранты за рубежом, так и не имевшие приглашения на работу. Помимо этого, страну начали покидать приглашенные иностранные ученые и ведущие ученые-соотечественники. Кадровый урон относится к числу самых сильных. Оборудование и материалы можно каким-то образом купить, быстро восполнить кадровые пробелы невозможно. – Какие формы научной кооперации сегодня возможны?\\n– С учетом того, что из-за экономических санкций возникли проблемы с обновлением оборудования, материалов, с доступом к программному обеспечению, актуализируется такая форма международного сотрудничества, как зеркальные лаборатории. Они появились в 2000-х годах в ряде столичных и региональных вузов и были подробно описаны как форма международного взаимодействия, в том числе с представителями научной диаспоры. «Зеркальность» подразумевает, что в России создается лаборатория по аналогии с уже действующей у партнеров за рубежом, с похожим оборудованием и схожестью тематик. В новых условиях обеспечить зеркальность оборудования будет сложно, а вот тематическая синхронизация достижима – при важности доступа российских исследователей к научному оборудованию партнеров. Возможно продолжать и уже упоминавшуюся программу мегагрантов, только с переориентацией на те страны, которые не вводили санкции. То же касается международных конкурсов Российского научного фонда. Здесь, скорее, вопрос не «как», а «с кем». – С какими странами дружественного лагеря стоит развивать сотрудничество в первую очередь?\\n– Неизбежна переориентация сотрудничества на дружественные страны, в первую очередь такие, как Китай, Индия и в целом страны БРИКС. Возможно также расширение кооперации со странами Африки и Латинской Америки. Пока со всеми этими государствами кооперация развита мало. Самый перспективный партнер – это Китай, который активно инвестирует в развитие своей науки и современных технологий. По данным Times Higher Education (THE), за последний год влияние КНР среди стран, с которыми у России продолжается научное сотрудничество (оцениваемое числом совместных публикаций), существенно возросло. Однако замыкаться на одного «самого главного» партнера опасно, так как это приводит к зависимости от него. С остальными перечисленными странами проблема в том, что партнерства могут оказаться неравноправными, а потому недостаточно продуктивными. Так что идеального решения в сложившейся ситуации нет. – Можно ли говорить о наиболее уязвимых вследствие изоляции секторах науки?\\n– Здесь, на мой взгляд, секторальный подход (если говорить о государственном, вузовском и предпринимательском секторах) не очень подходит. Наиболее уязвимы в любых секторах те, кто был включен в международную кооперацию со странами, которые ввели санкции. Институциональные связи прекращены, сотрудничество на финансовой основе невозможно. Остаются точечные контакты. Очень сложно тем, кто участвовал в кооперации на объектах меганауки. Причем от удаления России из этих проектов страдают и коллективы из других стран. Обрыв связей в данном случае особенно больно ударяет по всем участникам прошлых проектов. – Как вы думаете, сойдет ли на нет важность наукометрических показателей?\\n– Поскольку официально высказаны намерения больше развивать прикладные исследования и разработки и проекты, которые будут способствовать обеспечению технологического суверенитета, то естественным образом фокус на наукометрические показатели должен быть ослаблен. Опять же, по оценкам, измерение результатов по публикациям было релевантно для не более четверти исследователей страны. Просто в последние годы научное сообщество уделяло повышенное внимание библиометрии, отчего казалось, что это такой всеобщий способ оценки.\\nОпора на наукометрические показатели снижается во многих странах, включая Китай. Если российская наука будет оцениваться по более широкому кругу показателей и станут понятнее экономические эффекты от работы НИИ и университетов, то это пойдет на пользу научно-технологическому развитию. – Как нужно действовать государству в текущей ситуации, чтобы сохранить в науке молодежь?\\n– Молодежь можно увлечь интересными задачами, чтобы она в том числе видела, зачем она это делает (исследует, изучает) и что это может дать экономике или обществу. Мне кажется, это может привлечь тех, кто имеет склонности к научной работе. Правда, многие опросы показывают, что для молодых на первом месте стоит заработная плата. Она с отрывом лидирует и намного важнее многих других факторов: от доступности современного научного оборудования до возможности общаться с «гуру» в своей области науки (то есть быть частью научных школ). Так что финансовый вопрос тоже нельзя сбрасывать со счетов, при этом понимая, что повышение зарплаты не является радикальным решением вопроса. Если у молодого человека цель заработать побольше, то сфера науки здесь всегда будет уступать многим другим отраслям экономики. ')"
            ]
          },
          "metadata": {},
          "execution_count": 25
        }
      ]
    },
    {
      "cell_type": "code",
      "source": [
        "import csv"
      ],
      "metadata": {
        "id": "dhcQT71ph3iM"
      },
      "execution_count": null,
      "outputs": []
    },
    {
      "cell_type": "code",
      "source": [
        "#создадим файл csv для сохранения новостей\n",
        "headers = ['aTitle', 'cat', 'anArticle']\n",
        "\n",
        "with open('news.csv', 'w', newline='', encoding='utf-8') as f:\n",
        "    writer = csv.writer(f)\n",
        "    writer.writerow(headers)"
      ],
      "metadata": {
        "id": "1KXEqqwyjG0a"
      },
      "execution_count": null,
      "outputs": []
    },
    {
      "cell_type": "code",
      "source": [
        "#функция записи в csv\n",
        "def save_news_to_csv(urls_list, file_name): \n",
        "\n",
        "    # Открываем CSV-файл для записи новостей\n",
        "    with open(file_name, 'a', newline='', encoding='utf-8') as f:\n",
        "        writer = csv.writer(f)\n",
        "\n",
        "\n",
        "        # Записываем новости в CSV-файл\n",
        "        for url in urls_list:\n",
        "            article_data = getArticle(url)\n",
        "            if article_data is not None:\n",
        "                writer.writerow(article_data)"
      ],
      "metadata": {
        "id": "sKbGbPAsh5WQ"
      },
      "execution_count": null,
      "outputs": []
    },
    {
      "cell_type": "code",
      "source": [
        "#парсим первую страницу\n",
        "link = \"https://poisknews.ru/category/skript/\"\n",
        "print (link)\n",
        "linklist = geth2(link)\n",
        "save_news_to_csv(linklist, \"news.csv\")"
      ],
      "metadata": {
        "colab": {
          "base_uri": "https://localhost:8080/"
        },
        "id": "20actdfvn-R1",
        "outputId": "5ecc39a7-b185-450a-84cf-cfe260f0045c"
      },
      "execution_count": null,
      "outputs": [
        {
          "output_type": "stream",
          "name": "stdout",
          "text": [
            "https://poisknews.ru/category/skript/\n"
          ]
        }
      ]
    },
    {
      "cell_type": "code",
      "source": [
        "#и затем остальные, всего страниц 163, \n",
        "for i in range (2, 163):\n",
        "  link = \"https://poisknews.ru/category/skript/page/\" + str(i) + \"/\"\n",
        "  print (link)\n",
        "  linklist = geth2(link)\n",
        "  save_news_to_csv(linklist, \"news.csv\")\n",
        "  \n"
      ],
      "metadata": {
        "colab": {
          "base_uri": "https://localhost:8080/"
        },
        "id": "dsKHxtCYQj3q",
        "outputId": "3c2ed676-03f8-4847-d954-d5926c9299e6"
      },
      "execution_count": null,
      "outputs": [
        {
          "output_type": "stream",
          "name": "stdout",
          "text": [
            "https://poisknews.ru/category/skript/page/2/\n",
            "https://poisknews.ru/category/skript/page/3/\n",
            "https://poisknews.ru/category/skript/page/4/\n"
          ]
        }
      ]
    }
  ]
}